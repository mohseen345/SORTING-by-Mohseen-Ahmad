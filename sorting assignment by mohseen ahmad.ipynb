{
 "cells": [
  {
   "cell_type": "code",
   "execution_count": null,
   "metadata": {},
   "outputs": [],
   "source": []
  },
  {
   "cell_type": "markdown",
   "metadata": {},
   "source": [
    "To find the element that appears the maximum number of times in an array of \\( n \\) numbers, we can use a straightforward approach using a hash map (or dictionary in Python) to count occurrences of each element. Here's a step-by-step algorithm:\n",
    "\n",
    "### Algorithm\n",
    "\n",
    "1. **Initialize a dictionary:** This will be used to store elements of the array as keys and their respective counts as values.\n",
    "\n",
    "2. **Iterate through the array:** For each element in the array:\n",
    "   - If the element is not already in the dictionary, add it with an initial count of 1.\n",
    "   - If the element is already in the dictionary, increment its count by 1.\n",
    "\n",
    "3. **Find the element with maximum count:** Traverse through the dictionary to find the key (element) with the maximum value (count).\n",
    "\n",
    "4. **Output:** Return the element with the maximum co\n",
    "\n",
    "### Explanation\n",
    "\n",
    "- **Step 1:** We initialize a dictionary `count_map` to store the counts of each element.\n",
    "- **Step 2:** We iterate through the array `arr`. For each element `num`, we check if it exists in `count_map`. If it does, we increment its count; otherwise, we add it with an initial count of 1.\n",
    "- **Step 3:** After populating `count_map` with all elements and their counts, we traverse through the dictionary to find the key (element) with the maximum value (count).\n",
    "- **Step 4:** We return the element with the maximum count as the result.\n",
    "\n",
    "### Complexity\n",
    "\n",
    "- **Time Complexity:** \\( O(n) \\), where \\( n \\) is the number of elements in the array. This is because we iterate through the array once to populate the dictionary and then iterate through the dictionary to find the maximum count.\n",
    "- **Space Complexity:** \\( O(n) \\) in the worst case, where all elements are unique and thus stored in the dictionary.\n",
    "\n",
    "This algorithm efficiently finds the element that appears the maximum number of times in the array using hashing to maintain counts, ensuring optimal performance for large arrays."
   ]
  },
  {
   "cell_type": "code",
   "execution_count": 1,
   "metadata": {},
   "outputs": [
    {
     "name": "stdout",
     "output_type": "stream",
     "text": [
      "The element appearing maximum number of times is: 1\n"
     ]
    }
   ],
   "source": [
    "### Example Implementation in Python\n",
    "def find_most_frequent_element(arr):\n",
    "    # Dictionary to store element counts\n",
    "    count_map = {}\n",
    "\n",
    "    # Count occurrences of each element\n",
    "    for num in arr:\n",
    "        if num in count_map:\n",
    "            count_map[num] += 1\n",
    "        else:\n",
    "            count_map[num] = 1\n",
    "\n",
    "    # Find element with maximum count\n",
    "    max_count = -1\n",
    "    most_frequent_element = None\n",
    "    for key, value in count_map.items():\n",
    "        if value > max_count:\n",
    "            max_count = value\n",
    "            most_frequent_element = key\n",
    "\n",
    "    return most_frequent_element\n",
    "\n",
    "# Example usage:\n",
    "arr = [1, 3, 2, 2, 3, 1, 1, 1, 3]\n",
    "result = find_most_frequent_element(arr)\n",
    "print(f\"The element appearing maximum number of times is: {result}\")"
   ]
  },
  {
   "cell_type": "code",
   "execution_count": 2,
   "metadata": {},
   "outputs": [],
   "source": [
    "#Problem 2 : We are given a list of n-1 integers and these integers are in the range of 1 to n . There are no\n",
    "#duplicates in the list. One of the integers is missing in the list. Give an algorithm to find that element Ex:\n",
    "#[1,2,4,6,3,7,8] 5 is the missing num."
   ]
  },
  {
   "cell_type": "markdown",
   "metadata": {},
   "source": [
    "To find the missing number in a list of \n",
    "𝑛\n",
    "−\n",
    "1\n",
    "n−1 integers where the integers are in the range of \n",
    "1\n",
    "1 to \n",
    "𝑛\n",
    "n and there are no duplicates, we can utilize the property of arithmetic progression and the sum of the first \n",
    "𝑛\n",
    "n natural numbers.\n",
    "\n",
    "Approach:\n",
    "Calculate the Expected Sum:\n",
    "\n",
    "The sum of the first \n",
    "𝑛\n",
    "n natural numbers can be calculated using the formula:\n",
    "Sum\n",
    "expected\n",
    "=\n",
    "𝑛\n",
    "⋅\n",
    "(\n",
    "𝑛\n",
    "+\n",
    "1\n",
    ")\n",
    "2\n",
    "Sum \n",
    "expected\n",
    "​\n",
    " = \n",
    "2\n",
    "n⋅(n+1)\n",
    "​\n",
    " \n",
    "This gives us the sum of all integers from \n",
    "1\n",
    "1 to \n",
    "𝑛\n",
    "n.\n",
    "Calculate the Actual Sum:\n",
    "\n",
    "Compute the sum of the integers present in the list.\n",
    "Find the Missing Number:\n",
    "\n",
    "Subtract the actual sum from the expected sum. The difference will give us the missing number"
   ]
  },
  {
   "cell_type": "code",
   "execution_count": 5,
   "metadata": {},
   "outputs": [
    {
     "name": "stdout",
     "output_type": "stream",
     "text": [
      "missing number is 5\n"
     ]
    }
   ],
   "source": [
    "def find_missing_number(nums):\n",
    "    n=len(nums)+1\n",
    "    expected_sums=n*(n+1)//2\n",
    "    actual_sum=sum(nums)\n",
    "    missing_number=expected_sums-actual_sum\n",
    "    return missing_number\n",
    "#example number\n",
    "nums=[1,2,4,6,3,7,8]\n",
    "missing_num=find_missing_number(nums)\n",
    "print(f\"missing number is {missing_num}\")"
   ]
  },
  {
   "cell_type": "markdown",
   "metadata": {},
   "source": [
    "3. Given an array of n positive numbers. All numbers occurs even number of times except 1 which\n",
    "occurs odd number of times. Find that number in O(n) time and O(1) space. Ex: [1,2,3,2,3,1,3]. 3 is repeats odd\n",
    "times."
   ]
  },
  {
   "cell_type": "code",
   "execution_count": 9,
   "metadata": {},
   "outputs": [
    {
     "name": "stdout",
     "output_type": "stream",
     "text": [
      "the number occurring odd number of times is:3\n"
     ]
    }
   ],
   "source": [
    "def find_odd_occurrence(arr):\n",
    "    result=0\n",
    "    for num in arr:\n",
    "        result^=num\n",
    "    return result\n",
    "arr=[1,2,3,2,3,1,3]\n",
    "odd_occurrence=find_odd_occurrence(arr)\n",
    "print(f\"the number occurring odd number of times is:{odd_occurrence}\")"
   ]
  },
  {
   "cell_type": "markdown",
   "metadata": {},
   "source": [
    "4.Given an array of n elements. Find two elements in the array such that their sum is equal to given\n",
    "element K."
   ]
  },
  {
   "cell_type": "markdown",
   "metadata": {},
   "source": [
    "To solve the problem of finding two elements in an array that sum up to a given number \n",
    "𝐾\n",
    "K, we can utilize a hash table (or dictionary in Python) to efficiently track and find the required pair. Here's a step-by-step approach using this method:\n",
    "\n",
    "Use a Hash Table: Use a hash table (dictionary in Python) to store elements as we iterate through the array.\n",
    "\n",
    "For each element num in the array:\n",
    "Calculate target = K - num. This is the value we need to find in the array to pair with num to make the sum equal to K.\n",
    "Check if target Exists: Check if target exists in the hash table:\n",
    "\n",
    "If target exists, then num and target are the pair that sums up to K. Return these two numbers.\n",
    "If target does not exist, store num in the hash table for future lookups.\n",
    "Iterate Through the Array: Continue this process until all elements in the array are processed.\n",
    "\n",
    "Handle Edge Cases: Consider edge cases such as:\n",
    "\n",
    "Array with fewer than two elements (no valid pair possible).\n",
    "Array where no pair exists that sums to K."
   ]
  },
  {
   "cell_type": "code",
   "execution_count": 12,
   "metadata": {},
   "outputs": [
    {
     "name": "stdout",
     "output_type": "stream",
     "text": [
      "Pair with sum 16: (10, 6)\n"
     ]
    }
   ],
   "source": [
    "def find_pair_with_sum(arr, K):\n",
    "    if len(arr) < 2:\n",
    "        return None\n",
    "    \n",
    "    # Dictionary to store elements and their indices\n",
    "    num_map = {}\n",
    "    \n",
    "    # Iterate through the array\n",
    "    for num in arr:\n",
    "        target = K - num\n",
    "        if target in num_map:\n",
    "            # Found the pair (num, target)\n",
    "            return (num, target)\n",
    "        else:\n",
    "            # Store num in the map\n",
    "            num_map[num] = True\n",
    "    \n",
    "    # If no such pair is found\n",
    "    return None\n",
    "\n",
    "# Example usage:\n",
    "arr = [1, 4, 45, 6, 10, 8]\n",
    "K = 16\n",
    "result = find_pair_with_sum(arr, K)\n",
    "if result:\n",
    "    print(f\"Pair with sum {K}: {result}\")\n",
    "else:\n",
    "    print(f\"No pair found with sum {K}\")\n"
   ]
  },
  {
   "cell_type": "markdown",
   "metadata": {},
   "source": [
    "5.Given an array of both positive and negative numbers, find two numbers such that their sum is\n",
    "closest to 0. Ex: [ 1 ,60 ,-10, 70, -80,85]. Ans : -80,85."
   ]
  },
  {
   "cell_type": "markdown",
   "metadata": {},
   "source": [
    "To solve the problem of finding two numbers in an array whose sum is closest to zero, we can utilize a sorting-based approach which efficiently finds the closest pair in terms of their sum.\n",
    "\n",
    "Here’s a step-by-step approach:\n",
    "\n",
    "Sort the Array: First, sort the given array. Sorting helps us to easily find pairs with minimum difference (in this case, closest to zero) by scanning adjacent elements.\n",
    "\n",
    "Initialize Pointers: Use two pointers, one (left) starting from the beginning (smallest element after sorting) and another (right) starting from the end (largest element after sorting) of the array.\n",
    "\n",
    "Track Minimum Sum: Maintain variables to keep track of the two numbers which produce the current minimum sum found during the iteration.\n",
    "\n",
    "Iterate and Update: Iterate through the array using the two pointers:\n",
    "\n",
    "Calculate the current sum of the elements pointed to by the two pointers.\n",
    "If the absolute value of this sum is less than the previously recorded minimum sum, update the minimum sum and update the numbers which produce this sum.\n",
    "Adjust the pointers based on whether the current sum is less than zero (move the left pointer to the right) or more than zero (move the right pointer to the left).\n",
    "Output: After completing the iteration, the numbers stored in the variables will be the pair whose sum is closest to zero."
   ]
  },
  {
   "cell_type": "code",
   "execution_count": 11,
   "metadata": {},
   "outputs": [
    {
     "name": "stdout",
     "output_type": "stream",
     "text": [
      "Pair with sum closest to zero: (-80, 85)\n"
     ]
    }
   ],
   "source": [
    "def closest_to_zero_sum_pair(arr):\n",
    "    # Sort the array\n",
    "    arr.sort()\n",
    "    \n",
    "    # Initialize pointers\n",
    "    left = 0\n",
    "    right = len(arr) - 1\n",
    "    \n",
    "    # Variables to track the closest pair and their sum\n",
    "    min_sum = float('inf')\n",
    "    closest_pair = (None, None)\n",
    "    \n",
    "    # Iterate through the array with two pointers\n",
    "    while left < right:\n",
    "        current_sum = arr[left] + arr[right]\n",
    "        \n",
    "        # Check if current pair forms a closer sum to zero\n",
    "        if abs(current_sum) < abs(min_sum):\n",
    "            min_sum = current_sum\n",
    "            closest_pair = (arr[left], arr[right])\n",
    "        \n",
    "        # Move pointers based on the current sum\n",
    "        if current_sum < 0:\n",
    "            left += 1\n",
    "        else:\n",
    "            right -= 1\n",
    "    \n",
    "    return closest_pair\n",
    "\n",
    "# Example usage:\n",
    "arr = [1, 60, -10, 70, -80, 85]\n",
    "result = closest_to_zero_sum_pair(arr)\n",
    "print(\"Pair with sum closest to zero:\", result)"
   ]
  },
  {
   "cell_type": "markdown",
   "metadata": {},
   "source": [
    "6.Given an array of n elements . Find three elements such that their sum is equal to the given\n",
    "number."
   ]
  },
  {
   "cell_type": "markdown",
   "metadata": {},
   "source": [
    "To solve the problem of finding three elements in an array whose sum is equal to a given number \n",
    "𝐾\n",
    "K, we can extend the approach used for finding pairs with a slight modification. Here's how we can proceed:\n",
    "\n",
    "Approach:\n",
    "Sort the Array: Start by sorting the array. Sorting helps us efficiently explore combinations and skip unnecessary checks.\n",
    "\n",
    "Iterate with Fixed Element: Use a nested loop where the outer loop fixes one element (arr[i]) at a time.\n",
    "\n",
    "Use Two Pointers for Remaining Elements: Inside the outer loop, use two pointers (left and right) to find the other two elements that sum up to K - arr[i].\n",
    "\n",
    "Initialize left as i + 1 and right as n - 1.\n",
    "Adjust pointers (left and right) based on whether the sum of the current triplet (arr[i] + arr[left] + arr[right]) is less than or greater than K.\n",
    "Check Sum and Adjust Pointers: If the sum equals K, then we have found the triplet. If the sum is less than K, move the left pointer to the right to increase the sum. If the sum is greater than K, move the right pointer to the left to decrease the sum.\n",
    "\n",
    "Handle Duplicates: Ensure to skip duplicate elements to avoid counting the same triplet multiple times.\n",
    "\n",
    "Return Result: If a triplet is found, return it. If no triplet is found by the end of the iteration, return None."
   ]
  },
  {
   "cell_type": "code",
   "execution_count": 13,
   "metadata": {},
   "outputs": [
    {
     "name": "stdout",
     "output_type": "stream",
     "text": [
      "Triplets with sum 22: [(4, 8, 10)]\n"
     ]
    }
   ],
   "source": [
    "def find_triplet_with_sum(arr, K):\n",
    "    n = len(arr)\n",
    "    arr.sort()\n",
    "    result = []\n",
    "\n",
    "    for i in range(n - 2):\n",
    "        # Skip duplicates\n",
    "        if i > 0 and arr[i] == arr[i - 1]:\n",
    "            continue\n",
    "        \n",
    "        left = i + 1\n",
    "        right = n - 1\n",
    "        \n",
    "        while left < right:\n",
    "            current_sum = arr[i] + arr[left] + arr[right]\n",
    "            \n",
    "            if current_sum == K:\n",
    "                result.append((arr[i], arr[left], arr[right]))\n",
    "                # Skip duplicates\n",
    "                while left < right and arr[left] == arr[left + 1]:\n",
    "                    left += 1\n",
    "                while left < right and arr[right] == arr[right - 1]:\n",
    "                    right -= 1\n",
    "                left += 1\n",
    "                right -= 1\n",
    "            elif current_sum < K:\n",
    "                left += 1\n",
    "            else:\n",
    "                right -= 1\n",
    "    \n",
    "    return result if result else None\n",
    "\n",
    "# Example usage:\n",
    "arr = [1, 4, 45, 6, 10, 8]\n",
    "K = 22\n",
    "result = find_triplet_with_sum(arr, K)\n",
    "if result:\n",
    "    print(f\"Triplets with sum {K}: {result}\")\n",
    "else:\n",
    "    print(f\"No triplet found with sum {K}\")\n"
   ]
  },
  {
   "cell_type": "markdown",
   "metadata": {},
   "source": [
    "7.Given an array of n elements . Find three elements i, j, k in the array such that\n",
    "i * i + j * j = k*k."
   ]
  },
  {
   "cell_type": "markdown",
   "metadata": {},
   "source": [
    "To solve the problem of finding three elements \n",
    "𝑖\n",
    ",\n",
    "𝑗\n",
    ",\n",
    "𝑘\n",
    "i,j,k in an array such that \n",
    "𝑖\n",
    "2\n",
    "+\n",
    "𝑗\n",
    "2\n",
    "=\n",
    "𝑘\n",
    "2\n",
    "i \n",
    "2\n",
    " +j \n",
    "2\n",
    " =k \n",
    "2\n",
    " , we can approach it using a hashing technique combined with checking each possible triplet of elements from the array. Here's how we can proceed:\n",
    "\n",
    "Approach:\n",
    "Square all Elements: Begin by squaring each element in the array to avoid repeated calculations later.\n",
    "\n",
    "Use a Hash Table for Squared Values: Store the squared values of each element in a hash table (or dictionary in Python) for quick lookup.\n",
    "\n",
    "Iterate and Check Triplets: Use two nested loops to iterate over pairs of elements (i, j):\n",
    "\n",
    "For each pair (i, j), compute sum_of_squares = arr[i]^2 + arr[j]^2.\n",
    "Check if sum_of_squares exists in the hash table. If it does, then there exists a triplet (i, j, k) such that i^2 + j^2 = k^2.\n",
    "Handle Duplicates: Ensure to skip duplicates in the outer loop to avoid counting the same triplet multiple times.\n",
    "\n",
    "Return Result: If such a triplet is found, return it. If no triplet is found by the end of the iteration, return None."
   ]
  },
  {
   "cell_type": "code",
   "execution_count": 14,
   "metadata": {},
   "outputs": [
    {
     "name": "stdout",
     "output_type": "stream",
     "text": [
      "Triplet found: (3, 4, 5)\n"
     ]
    }
   ],
   "source": [
    "def find_triplet_pythagorean(arr):\n",
    "    n = len(arr)\n",
    "    if n < 3:\n",
    "        return None\n",
    "    \n",
    "    # Square all elements in the array\n",
    "    arr_squares = [x * x for x in arr]\n",
    "    \n",
    "    # Dictionary to store squared values and their indices\n",
    "    square_dict = {arr_squares[i]: i for i in range(n)}\n",
    "    \n",
    "    # Iterate over pairs (i, j)\n",
    "    for i in range(n - 1):\n",
    "        for j in range(i + 1, n):\n",
    "            sum_of_squares = arr_squares[i] + arr_squares[j]\n",
    "            if sum_of_squares in square_dict:\n",
    "                k_index = square_dict[sum_of_squares]\n",
    "                # Ensure i, j, k are distinct indices\n",
    "                if k_index != i and k_index != j:\n",
    "                    return (arr[i], arr[j], arr[k_index])\n",
    "    \n",
    "    return None\n",
    "\n",
    "# Example usage:\n",
    "arr = [3, 1, 4, 6, 5]\n",
    "result = find_triplet_pythagorean(arr)\n",
    "if result:\n",
    "    print(f\"Triplet found: {result}\")\n",
    "else:\n",
    "    print(\"No triplet found\")\n"
   ]
  },
  {
   "cell_type": "markdown",
   "metadata": {},
   "source": [
    "8.An element is a majority if it appears more than n/2 times. Give an algorithm takes an array of n\n",
    "element as argument and identifies a majority (if it exists)."
   ]
  },
  {
   "cell_type": "markdown",
   "metadata": {},
   "source": [
    "To identify a majority element in an array (if it exists), where a majority element is defined as one that appears more than \n",
    "𝑛\n",
    "2\n",
    "2\n",
    "n\n",
    "​\n",
    "  times in the array, we can utilize a well-known algorithm called the Boyer-Moore Voting Algorithm. This algorithm is efficient and operates in \n",
    "𝑂\n",
    "(\n",
    "𝑛\n",
    ")\n",
    "O(n) time complexity with \n",
    "𝑂\n",
    "(\n",
    "1\n",
    ")\n",
    "O(1) additional space, making it suitable for this problem.\n",
    "\n",
    "Boyer-Moore Voting Algorithm:\n",
    "Here’s how the algorithm works:\n",
    "\n",
    "Initialization:\n",
    "\n",
    "Initialize two variables: candidate to store the current candidate for majority and count to keep track of its frequency.\n",
    "Start with candidate as None and count as 0.\n",
    "Processing the Array:\n",
    "\n",
    "Iterate through each element in the array.\n",
    "For each element:\n",
    "If count is 0, set the current element as the candidate and initialize count to 1.\n",
    "If the current element is equal to candidate, increment count.\n",
    "If the current element is different from candidate, decrement count.\n",
    "Verification:\n",
    "\n",
    "After completing the iteration, candidate will hold the majority element candidate.\n",
    "Verify if candidate indeed appears more than \n",
    "𝑛\n",
    "2\n",
    "2\n",
    "n\n",
    "​\n",
    "  times in the array by counting its occurrences in a second pass through the array.\n",
    "Return Result:\n",
    "\n",
    "If candidate is found to be the majority element after verification, return it.\n",
    "If no majority element is found (i.e., no element appears more than \n",
    "𝑛\n",
    "2\n",
    "2\n",
    "n\n",
    "​\n",
    "  times), return None."
   ]
  },
  {
   "cell_type": "code",
   "execution_count": 15,
   "metadata": {},
   "outputs": [
    {
     "name": "stdout",
     "output_type": "stream",
     "text": [
      "Array 1: [3, 3, 4, 2, 4, 4, 2, 4, 4]\n",
      "Majority element (if exists): 4\n",
      "Array 2: [1, 2, 3, 4, 4, 4, 4, 4, 5]\n",
      "Majority element (if exists): 4\n",
      "Array 3: [1, 1, 1, 1, 2, 3, 4, 5, 6]\n",
      "Majority element (if exists): None\n"
     ]
    }
   ],
   "source": [
    "def find_majority_element(arr):\n",
    "    n = len(arr)\n",
    "    \n",
    "    # Step 1: Find the candidate for majority element\n",
    "    candidate = None\n",
    "    count = 0\n",
    "    \n",
    "    for num in arr:\n",
    "        if count == 0:\n",
    "            candidate = num\n",
    "            count = 1\n",
    "        elif num == candidate:\n",
    "            count += 1\n",
    "        else:\n",
    "            count -= 1\n",
    "    \n",
    "    # Step 2: Verify if candidate is actually the majority element\n",
    "    if candidate is not None:\n",
    "        # Count occurrences of candidate\n",
    "        count_candidate = sum(1 for num in arr if num == candidate)\n",
    "        if count_candidate > n / 2:\n",
    "            return candidate\n",
    "    \n",
    "    # No majority element found\n",
    "    return None\n",
    "\n",
    "# Example usage:\n",
    "arr1 = [3, 3, 4, 2, 4, 4, 2, 4, 4]\n",
    "arr2 = [1, 2, 3, 4, 4, 4, 4, 4, 5]\n",
    "arr3 = [1, 1, 1, 1, 2, 3, 4, 5, 6]\n",
    "\n",
    "print(\"Array 1:\", arr1)\n",
    "print(\"Majority element (if exists):\", find_majority_element(arr1))\n",
    "\n",
    "print(\"Array 2:\", arr2)\n",
    "print(\"Majority element (if exists):\", find_majority_element(arr2))\n",
    "\n",
    "print(\"Array 3:\", arr3)\n",
    "print(\"Majority element (if exists):\", find_majority_element(arr3))\n"
   ]
  },
  {
   "cell_type": "markdown",
   "metadata": {},
   "source": [
    "9.Given n × n matrix, and in each row all 1’s are followed by 0’s. Find the row with the maximum\n",
    "number of 0’s"
   ]
  },
  {
   "cell_type": "markdown",
   "metadata": {},
   "source": [
    "To find the row with the maximum number of 0's in an \n",
    "𝑛\n",
    "×\n",
    "𝑛\n",
    "n×n matrix where each row consists of all 1's followed by all 0's, we can utilize a binary search-like approach to efficiently locate the transition point from 1's to 0's in each row. Here's how we can approach this problem:\n",
    "\n",
    "Approach:\n",
    "Binary Search within Each Row:\n",
    "\n",
    "Since each row is sorted with all 1's followed by all 0's, we can use binary search to find the index where the 1's end and the 0's begin.\n",
    "Start the binary search in each row:\n",
    "Initialize left to 0 and right to n-1 (where n is the size of the matrix).\n",
    "While left is less than right, calculate the middle index mid.\n",
    "Check the value at matrix[row][mid]:\n",
    "If it is 1, move the search range to the right (left = mid + 1).\n",
    "If it is 0, move the search range to the left (right = mid).\n",
    "After the binary search, left will be the index where the 0's start (and the count of 0's will be n - left).\n",
    "Track Maximum 0's:\n",
    "\n",
    "As you perform the binary search for each row, keep track of the row which has the maximum count of 0's encountered.\n",
    "Return the Result:\n",
    "\n",
    "After iterating through all rows, return the index (or row number) which has the maximum count of 0's."
   ]
  },
  {
   "cell_type": "code",
   "execution_count": 16,
   "metadata": {},
   "outputs": [
    {
     "name": "stdout",
     "output_type": "stream",
     "text": [
      "Row with maximum number of 0's: 2\n"
     ]
    }
   ],
   "source": [
    "def find_row_with_max_zeros(matrix):\n",
    "    n = len(matrix)\n",
    "    max_zeros_count = 0\n",
    "    max_zeros_row = -1\n",
    "    \n",
    "    for row in range(n):\n",
    "        left, right = 0, n - 1\n",
    "        while left < right:\n",
    "            mid = (left + right) // 2\n",
    "            if matrix[row][mid] == 1:\n",
    "                left = mid + 1\n",
    "            else:\n",
    "                right = mid\n",
    "        \n",
    "        zeros_count = n - left\n",
    "        if zeros_count > max_zeros_count:\n",
    "            max_zeros_count = zeros_count\n",
    "            max_zeros_row = row\n",
    "    \n",
    "    return max_zeros_row\n",
    "\n",
    "# Example usage:\n",
    "matrix = [\n",
    "    [1, 1, 1, 0],\n",
    "    [1, 1, 0, 0],\n",
    "    [1, 0, 0, 0],\n",
    "    [1, 1, 1, 1]\n",
    "]\n",
    "\n",
    "result_row = find_row_with_max_zeros(matrix)\n",
    "if result_row != -1:\n",
    "    print(f\"Row with maximum number of 0's: {result_row}\")\n",
    "else:\n",
    "    print(\"No row with all 1's followed by 0's found.\")\n"
   ]
  },
  {
   "cell_type": "markdown",
   "metadata": {},
   "source": [
    "10.: Sort an array of 0’s, 1’s and 2’s [or R’s, G’s and B’s]: Given an array A[] consisting of 0’s, 1’s and\n",
    "2’s, give an algorithm for sorting A[].The algorithm should put all 0’s first, then all 1’s and finally all 2’s at the\n",
    "end. Example Input = {0,1,1,0,1,2,1,2,0,0,0,1}, Output = {0,0,0,0,0,1,1,1,1,1,2,2}"
   ]
  },
  {
   "cell_type": "markdown",
   "metadata": {},
   "source": [
    "The problem requires sorting an array consisting of elements that are either 0's, 1's, or 2's, commonly known as the Dutch National Flag problem. This problem is efficiently solvable in linear time using a two-pointer technique.\n",
    "\n",
    "Approach:\n",
    "Initialization:\n",
    "\n",
    "Use three pointers: low, mid, and high.\n",
    "low will point to the current position where the next 0 should be placed.\n",
    "mid will iterate through the array.\n",
    "high will point to the current position where the next 2 should be placed.\n",
    "Iterate through the Array:\n",
    "\n",
    "Initialize low at the beginning (0) of the array and high at the end (n-1) of the array.\n",
    "Use mid to iterate through the array from start to end.\n",
    "Perform the following operations:\n",
    "If A[mid] is 0: Swap A[low] with A[mid], increment both low and mid.\n",
    "If A[mid] is 1: Move mid forward (mid++), as 1s are already in their correct place.\n",
    "If A[mid] is 2: Swap A[mid] with A[high], decrement high. Do not increment mid because we need to recheck the new A[mid] value.\n",
    "Terminate:\n",
    "\n",
    "Continue this process until mid exceeds high.\n",
    "At this point, the array will be sorted with all 0s at the beginning, followed by all 1s, and then all 2s.\n",
    "Output:\n",
    "\n",
    "The array A will be sorted in place according to the above logic"
   ]
  },
  {
   "cell_type": "code",
   "execution_count": 17,
   "metadata": {},
   "outputs": [
    {
     "name": "stdout",
     "output_type": "stream",
     "text": [
      "Sorted array: [0, 0, 0, 0, 0, 1, 1, 1, 1, 1, 2, 2]\n"
     ]
    }
   ],
   "source": [
    "def sort_colors(nums):\n",
    "    n = len(nums)\n",
    "    low = 0\n",
    "    mid = 0\n",
    "    high = n - 1\n",
    "    \n",
    "    while mid <= high:\n",
    "        if nums[mid] == 0:\n",
    "            # Swap nums[low] and nums[mid], increment low and mid\n",
    "            nums[low], nums[mid] = nums[mid], nums[low]\n",
    "            low += 1\n",
    "            mid += 1\n",
    "        elif nums[mid] == 1:\n",
    "            # No swap needed, just move mid forward\n",
    "            mid += 1\n",
    "        else:  # nums[mid] == 2\n",
    "            # Swap nums[mid] and nums[high], decrement high\n",
    "            nums[mid], nums[high] = nums[high], nums[mid]\n",
    "            high -= 1\n",
    "    \n",
    "    return nums\n",
    "\n",
    "# Example usage:\n",
    "arr = [0, 1, 1, 0, 1, 2, 1, 2, 0, 0, 0, 1]\n",
    "sorted_arr = sort_colors(arr)\n",
    "print(\"Sorted array:\", sorted_arr)\n"
   ]
  },
  {
   "cell_type": "code",
   "execution_count": null,
   "metadata": {},
   "outputs": [],
   "source": []
  }
 ],
 "metadata": {
  "kernelspec": {
   "display_name": "Python 3",
   "language": "python",
   "name": "python3"
  },
  "language_info": {
   "codemirror_mode": {
    "name": "ipython",
    "version": 3
   },
   "file_extension": ".py",
   "mimetype": "text/x-python",
   "name": "python",
   "nbconvert_exporter": "python",
   "pygments_lexer": "ipython3",
   "version": "3.11.1"
  }
 },
 "nbformat": 4,
 "nbformat_minor": 2
}
